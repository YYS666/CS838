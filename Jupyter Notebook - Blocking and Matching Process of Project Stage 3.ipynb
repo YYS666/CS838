{
 "cells": [
  {
   "cell_type": "markdown",
   "metadata": {},
   "source": [
    "# Blocking and Matching Process of Project Stage 3\n",
    "####     Authors: Jiewei Hong, Yusong Yang, Wei Tang\n",
    "This Jupyter notebook explains a basic workflow of processing entity matching between two tables using py_entitymatching. The dataset we are using is about the information of restaurants: the two tables are restaurant information originally from Yelp and Zomato, which include the restaurant names, addresses, zipcode, phone numbers, cuisine, rate/vote and reviews on each website. Our goal is to find the entities from Yelp table and Zomato table that are refering to the same real-world restaurant. The dataset can be found via the link: https://sites.google.com/site/anhaidgroup/useful-stuff/data.\n",
    "\n",
    "Entity matching between two tables typically consists of the following three steps:\n",
    "    1. Reading the input tables (and do data cleaning or other pre-processing if necessary);\n",
    "    2. Blocking the input tables to get a candidate set;\n",
    "    3. Matching the tuple pairs in the candidate set.\n",
    "\n",
    "And the first thing is to import the package py_entitymatching and other libraries as follows:\n"
   ]
  },
  {
   "cell_type": "code",
   "execution_count": 1,
   "metadata": {
    "collapsed": true
   },
   "outputs": [],
   "source": [
    "import sys\n",
    "sys.path.append('/home/hjw/anaconda2/lib/python2.7/site-packages/py_entitymatching/')\n",
    "\n",
    "import py_entitymatching as em\n",
    "import pandas as pd\n",
    "import numpy as np\n",
    "from sklearn import metrics"
   ]
  },
  {
   "cell_type": "code",
   "execution_count": 2,
   "metadata": {
    "collapsed": false
   },
   "outputs": [
    {
     "name": "stdout",
     "output_type": "stream",
     "text": [
      "python version: 2.7.13 |Anaconda custom (64-bit)| (default, Dec 20 2016, 23:09:15) \n",
      "[GCC 4.4.7 20120313 (Red Hat 4.4.7-1)]\n",
      "pandas version: 0.19.2\n",
      "magellan version: 0.1.0\n"
     ]
    }
   ],
   "source": [
    "# Display the versions\n",
    "print('python version: ' + sys.version)\n",
    "print('pandas version: ' + pd.__version__)\n",
    "print('magellan version: ' + em.__version__)"
   ]
  },
  {
   "cell_type": "markdown",
   "metadata": {},
   "source": [
    "\n",
    "## 1. Read Input Tables\n",
    "Before actually read in the tables, we begin by cleaning the original table. We notice that the original tables are not very clean: there are some restaurant names and addresses with non-ascii characters. So we substitute all non-ascii characters in address and name attributes by space for both two tables. \n",
    "Also, some abbreviations are used in the tables, such as Ave. for Avenue, Blvd. for Boulevard. We perform substition on those unabbreviated words (for example, substitute Avenue by Ave.).\n",
    "After data cleaning, we read in the two tables, name the Yelp table as AA, name the Zomato table as BB."
   ]
  },
  {
   "cell_type": "code",
   "execution_count": 3,
   "metadata": {
    "collapsed": false
   },
   "outputs": [
    {
     "name": "stderr",
     "output_type": "stream",
     "text": [
      "No handlers could be found for logger \"py_entitymatching.io.parsers\"\n"
     ]
    }
   ],
   "source": [
    "#load data\n",
    "AA = em.read_csv_metadata('/home/hjw/cs838/stage3/restaurant/restaurants2/final/AA.csv',key='ID') # Yelp Table\n",
    "BB = em.read_csv_metadata('/home/hjw/cs838/stage3/restaurant/restaurants2/final/BB.csv',key='ID') # Zomato Table"
   ]
  },
  {
   "cell_type": "code",
   "execution_count": 4,
   "metadata": {
    "collapsed": false
   },
   "outputs": [
    {
     "name": "stdout",
     "output_type": "stream",
     "text": [
      "Number of tuples in A: 3897\n",
      "Number of tuples in B: 3897\n",
      "Number of tuples in A X B (i.e., the Cartesian product): 27123120\n"
     ]
    }
   ],
   "source": [
    "print('Number of tuples in A: ' + str(len(AA)))\n",
    "print('Number of tuples in B: ' + str(len(AA)))\n",
    "print('Number of tuples in A X B (i.e., the Cartesian product): ' + str(len(AA)*len(BB)))"
   ]
  },
  {
   "cell_type": "code",
   "execution_count": 5,
   "metadata": {
    "collapsed": false
   },
   "outputs": [
    {
     "data": {
      "text/html": [
       "<div>\n",
       "<table border=\"1\" class=\"dataframe\">\n",
       "  <thead>\n",
       "    <tr style=\"text-align: right;\">\n",
       "      <th></th>\n",
       "      <th>ID</th>\n",
       "      <th>name</th>\n",
       "      <th>votes</th>\n",
       "      <th>rating</th>\n",
       "      <th>phone</th>\n",
       "      <th>address</th>\n",
       "      <th>zip</th>\n",
       "      <th>cuisine</th>\n",
       "    </tr>\n",
       "  </thead>\n",
       "  <tbody>\n",
       "    <tr>\n",
       "      <th>0</th>\n",
       "      <td>0</td>\n",
       "      <td>Patino s Grill</td>\n",
       "      <td>35</td>\n",
       "      <td>5.0</td>\n",
       "      <td>(773) 280-9562</td>\n",
       "      <td>2943 W Irving Park Rd</td>\n",
       "      <td>60618</td>\n",
       "      <td>American (Traditional)</td>\n",
       "    </tr>\n",
       "    <tr>\n",
       "      <th>1</th>\n",
       "      <td>1</td>\n",
       "      <td>Grandma J s Local Kitchen</td>\n",
       "      <td>188</td>\n",
       "      <td>4.0</td>\n",
       "      <td>(773) 227-3626</td>\n",
       "      <td>1552 N Kedzie Ave</td>\n",
       "      <td>60651</td>\n",
       "      <td>Breakfast &amp; Brunch</td>\n",
       "    </tr>\n",
       "    <tr>\n",
       "      <th>2</th>\n",
       "      <td>2</td>\n",
       "      <td>Ada St</td>\n",
       "      <td>340</td>\n",
       "      <td>4.5</td>\n",
       "      <td>(773) 697-7069</td>\n",
       "      <td>1664 N Ada St</td>\n",
       "      <td>60642</td>\n",
       "      <td>Bars</td>\n",
       "    </tr>\n",
       "    <tr>\n",
       "      <th>3</th>\n",
       "      <td>3</td>\n",
       "      <td>Fuh</td>\n",
       "      <td>104</td>\n",
       "      <td>4.5</td>\n",
       "      <td>(773) 270-4418</td>\n",
       "      <td>2218 N Lincoln Ave</td>\n",
       "      <td>60614</td>\n",
       "      <td>Vietnamese</td>\n",
       "    </tr>\n",
       "    <tr>\n",
       "      <th>4</th>\n",
       "      <td>4</td>\n",
       "      <td>Staropolska Restaurant</td>\n",
       "      <td>286</td>\n",
       "      <td>4.5</td>\n",
       "      <td>(773) 342-0779</td>\n",
       "      <td>3030 N Milwaukee Ave</td>\n",
       "      <td>60618</td>\n",
       "      <td>Polish</td>\n",
       "    </tr>\n",
       "  </tbody>\n",
       "</table>\n",
       "</div>"
      ],
      "text/plain": [
       "   ID                       name  votes  rating           phone  \\\n",
       "0   0             Patino s Grill     35     5.0  (773) 280-9562   \n",
       "1   1  Grandma J s Local Kitchen    188     4.0  (773) 227-3626   \n",
       "2   2                     Ada St    340     4.5  (773) 697-7069   \n",
       "3   3                        Fuh    104     4.5  (773) 270-4418   \n",
       "4   4     Staropolska Restaurant    286     4.5  (773) 342-0779   \n",
       "\n",
       "                 address    zip                 cuisine  \n",
       "0  2943 W Irving Park Rd  60618  American (Traditional)  \n",
       "1      1552 N Kedzie Ave  60651      Breakfast & Brunch  \n",
       "2          1664 N Ada St  60642                    Bars  \n",
       "3     2218 N Lincoln Ave  60614              Vietnamese  \n",
       "4   3030 N Milwaukee Ave  60618                  Polish  "
      ]
     },
     "execution_count": 5,
     "metadata": {},
     "output_type": "execute_result"
    }
   ],
   "source": [
    "AA.head()"
   ]
  },
  {
   "cell_type": "code",
   "execution_count": 6,
   "metadata": {
    "collapsed": false
   },
   "outputs": [
    {
     "data": {
      "text/html": [
       "<div>\n",
       "<table border=\"1\" class=\"dataframe\">\n",
       "  <thead>\n",
       "    <tr style=\"text-align: right;\">\n",
       "      <th></th>\n",
       "      <th>ID</th>\n",
       "      <th>name</th>\n",
       "      <th>votes</th>\n",
       "      <th>rating</th>\n",
       "      <th>phone</th>\n",
       "      <th>address</th>\n",
       "      <th>zip</th>\n",
       "      <th>cuisine</th>\n",
       "      <th>reviewcount</th>\n",
       "    </tr>\n",
       "  </thead>\n",
       "  <tbody>\n",
       "    <tr>\n",
       "      <th>0</th>\n",
       "      <td>0</td>\n",
       "      <td>Strings Ramen Shop</td>\n",
       "      <td>15</td>\n",
       "      <td>3.1</td>\n",
       "      <td>(312) 374-3450</td>\n",
       "      <td>2141 S. Archer Ave, Chicago</td>\n",
       "      <td>60616</td>\n",
       "      <td>Asian,Chinese,Ramen</td>\n",
       "      <td>2</td>\n",
       "    </tr>\n",
       "    <tr>\n",
       "      <th>1</th>\n",
       "      <td>1</td>\n",
       "      <td>Francesco's Hole In The Wall</td>\n",
       "      <td>179</td>\n",
       "      <td>4.0</td>\n",
       "      <td>(847) 272-0155</td>\n",
       "      <td>254 Skokie Blvd</td>\n",
       "      <td>60062</td>\n",
       "      <td>Italian</td>\n",
       "      <td>6</td>\n",
       "    </tr>\n",
       "    <tr>\n",
       "      <th>2</th>\n",
       "      <td>3</td>\n",
       "      <td>Four Belly</td>\n",
       "      <td>12</td>\n",
       "      <td>3.0</td>\n",
       "      <td>(773) 661-6182</td>\n",
       "      <td>3227 N. Clark St, Chicago</td>\n",
       "      <td>60657</td>\n",
       "      <td>Asian,BBQ,Japanese</td>\n",
       "      <td>0</td>\n",
       "    </tr>\n",
       "    <tr>\n",
       "      <th>3</th>\n",
       "      <td>4</td>\n",
       "      <td>Max's Take Out</td>\n",
       "      <td>60</td>\n",
       "      <td>4.6</td>\n",
       "      <td>(312) 553-0170</td>\n",
       "      <td>20 E. Adams St, Chicago</td>\n",
       "      <td>60603</td>\n",
       "      <td>American,Burger</td>\n",
       "      <td>12</td>\n",
       "    </tr>\n",
       "    <tr>\n",
       "      <th>4</th>\n",
       "      <td>5</td>\n",
       "      <td>BluFish Sushi Bistro</td>\n",
       "      <td>150</td>\n",
       "      <td>4.0</td>\n",
       "      <td>(847) 272-7990</td>\n",
       "      <td>Plaza Del Prado, 2733 Pfingsten Rd</td>\n",
       "      <td>60026</td>\n",
       "      <td>Sushi,Japanese</td>\n",
       "      <td>10</td>\n",
       "    </tr>\n",
       "  </tbody>\n",
       "</table>\n",
       "</div>"
      ],
      "text/plain": [
       "   ID                          name  votes  rating           phone  \\\n",
       "0   0            Strings Ramen Shop     15     3.1  (312) 374-3450   \n",
       "1   1  Francesco's Hole In The Wall    179     4.0  (847) 272-0155   \n",
       "2   3                    Four Belly     12     3.0  (773) 661-6182   \n",
       "3   4                Max's Take Out     60     4.6  (312) 553-0170   \n",
       "4   5          BluFish Sushi Bistro    150     4.0  (847) 272-7990   \n",
       "\n",
       "                              address    zip              cuisine  reviewcount  \n",
       "0         2141 S. Archer Ave, Chicago  60616  Asian,Chinese,Ramen            2  \n",
       "1                     254 Skokie Blvd  60062              Italian            6  \n",
       "2           3227 N. Clark St, Chicago  60657   Asian,BBQ,Japanese            0  \n",
       "3             20 E. Adams St, Chicago  60603      American,Burger           12  \n",
       "4  Plaza Del Prado, 2733 Pfingsten Rd  60026       Sushi,Japanese           10  "
      ]
     },
     "execution_count": 6,
     "metadata": {},
     "output_type": "execute_result"
    }
   ],
   "source": [
    "BB.head()"
   ]
  },
  {
   "cell_type": "code",
   "execution_count": 7,
   "metadata": {
    "collapsed": false
   },
   "outputs": [
    {
     "data": {
      "text/plain": [
       "('ID', 'ID')"
      ]
     },
     "execution_count": 7,
     "metadata": {},
     "output_type": "execute_result"
    }
   ],
   "source": [
    "# Display the keys of the input tables\n",
    "em.get_key(AA), em.get_key(BB)"
   ]
  },
  {
   "cell_type": "markdown",
   "metadata": {},
   "source": [
    "## 2. Downsampling(Skipped)\n",
    "Our dataset is not too large, so we skip the downsampling step and go to the blocking process."
   ]
  },
  {
   "cell_type": "markdown",
   "metadata": {},
   "source": [
    "\n",
    "## 3. Blocking Process\n",
    "### Block Tables to Generate Candidate Set\n",
    "Before we do the matching, we would like to remove the obviously non-matching tuple pairs from the input tables. This would reduce the number of tuple pairs considered in the matching process.  \n",
    "For this entity matching project, we know that if two tuples from two tables are refering to the same restaurant in real world, they much have similar address. So we first do overlap blocking on address to get a table C1. Then, if two entity are refering to the same restaurant, the name should at least have some overlap, thus we do overlap blocking based on name on C1, setting q-gram's q value as 3, generate C2.  \n",
    "The reason we do blocking on address before name is, it's possible that two restaurants are the chain-restaurants,i.e., they have identical name but distinct address. "
   ]
  },
  {
   "cell_type": "code",
   "execution_count": 8,
   "metadata": {
    "collapsed": false
   },
   "outputs": [
    {
     "name": "stderr",
     "output_type": "stream",
     "text": [
      "0%                          100%\n",
      "[##############################] | ETA: 00:00:10 | ETA: 00:00:10 | ETA: 00:00:09 | ETA: 00:00:08 | ETA: 00:00:07 | ETA: 00:00:06 | ETA: 00:00:06 | ETA: 00:00:05 | ETA: 00:00:05 | ETA: 00:00:04 | ETA: 00:00:04 | ETA: 00:00:03 | ETA: 00:00:03 | ETA: 00:00:03 | ETA: 00:00:02 | ETA: 00:00:02 | ETA: 00:00:02 | ETA: 00:00:02 | ETA: 00:00:02 | ETA: 00:00:01 | ETA: 00:00:01 | ETA: 00:00:01 | ETA: 00:00:01 | ETA: 00:00:01 | ETA: 00:00:00 | ETA: 00:00:00 | ETA: 00:00:00 | ETA: 00:00:00 | ETA: 00:00:00 | ETA: 00:00:00 | ETA: 00:00:00\n",
      "Total time elapsed: 00:00:05\n"
     ]
    },
    {
     "data": {
      "text/plain": [
       "573192"
      ]
     },
     "execution_count": 8,
     "metadata": {},
     "output_type": "execute_result"
    }
   ],
   "source": [
    "# Create an Overlap blocker\n",
    "ob = em.OverlapBlocker()\n",
    "# block on address\n",
    "C1 = ob.block_tables(AA, BB, 'address', 'address', overlap_size = 2,l_output_attrs=list(AA), r_output_attrs=list(BB))\n",
    "len(C1)"
   ]
  },
  {
   "cell_type": "code",
   "execution_count": 9,
   "metadata": {
    "collapsed": false
   },
   "outputs": [
    {
     "name": "stderr",
     "output_type": "stream",
     "text": [
      "0%                          100%\n",
      "[##############################] | ETA: 00:00:16 | ETA: 00:00:16 | ETA: 00:00:15 | ETA: 00:00:14 | ETA: 00:00:13 | ETA: 00:00:13 | ETA: 00:00:12 | ETA: 00:00:12 | ETA: 00:00:11 | ETA: 00:00:10 | ETA: 00:00:10 | ETA: 00:00:09 | ETA: 00:00:09 | ETA: 00:00:08 | ETA: 00:00:08 | ETA: 00:00:07 | ETA: 00:00:07 | ETA: 00:00:06 | ETA: 00:00:06 | ETA: 00:00:05 | ETA: 00:00:04 | ETA: 00:00:04 | ETA: 00:00:03 | ETA: 00:00:03 | ETA: 00:00:02 | ETA: 00:00:02 | ETA: 00:00:01 | ETA: 00:00:01 | ETA: 00:00:00 | ETA: 00:00:00 | ETA: 00:00:00\n",
      "Total time elapsed: 00:00:16\n"
     ]
    },
    {
     "data": {
      "text/plain": [
       "38958"
      ]
     },
     "execution_count": 9,
     "metadata": {},
     "output_type": "execute_result"
    }
   ],
   "source": [
    "# block on name\n",
    "C2 = ob.block_candset(C1, 'name', 'name', word_level=False, q_val=3, overlap_size = 2)\n",
    "len(C2)"
   ]
  },
  {
   "cell_type": "markdown",
   "metadata": {},
   "source": [
    "Next, we perform a blackbox blocker on C2, which conducts a blocking based on the attribute \"zip\". Since we notice that, there exists many pairs that don't have exactly the same zip code but actually refer to the same real-world restaurants (could be resulted from some zip code changing policies), and realizing that C2 is already a subset that should have similar address, our rule is not very strict for 'zip': if the first two digit of zipcode are not the same for two tuples, then they are blocked."
   ]
  },
  {
   "cell_type": "code",
   "execution_count": 10,
   "metadata": {
    "collapsed": true
   },
   "outputs": [],
   "source": [
    "# Define a Black-box rule based on five-digits zip code: if the first two digit of zipcode are not the same \n",
    "# for two tuples, then they are blocked\n",
    "def match_by_zip(ltuple, rtuple):\n",
    "    l_km = ltuple['zip']\n",
    "    r_km = rtuple['zip']\n",
    "    if abs(l_km - r_km) > 1000.0 :\n",
    "        return True\n",
    "    else:\n",
    "        return False"
   ]
  },
  {
   "cell_type": "code",
   "execution_count": 11,
   "metadata": {
    "collapsed": false
   },
   "outputs": [
    {
     "name": "stderr",
     "output_type": "stream",
     "text": [
      "0%                          100%\n",
      "[##############################] | ETA: 00:00:04 | ETA: 00:00:03 | ETA: 00:00:03 | ETA: 00:00:02 | ETA: 00:00:02 | ETA: 00:00:02 | ETA: 00:00:01 | ETA: 00:00:01 | ETA: 00:00:01 | ETA: 00:00:01 | ETA: 00:00:01 | ETA: 00:00:01 | ETA: 00:00:01 | ETA: 00:00:01 | ETA: 00:00:01 | ETA: 00:00:01 | ETA: 00:00:01 | ETA: 00:00:00 | ETA: 00:00:00 | ETA: 00:00:00 | ETA: 00:00:00 | ETA: 00:00:00 | ETA: 00:00:00 | ETA: 00:00:00 | ETA: 00:00:00 | ETA: 00:00:00 | ETA: 00:00:00 | ETA: 00:00:00 | ETA: 00:00:00 | ETA: 00:00:00 | ETA: 00:00:00\n",
      "Total time elapsed: 00:00:02\n"
     ]
    },
    {
     "data": {
      "text/plain": [
       "18820"
      ]
     },
     "execution_count": 11,
     "metadata": {},
     "output_type": "execute_result"
    }
   ],
   "source": [
    "# Create a Black-box blocker and perform blocking\n",
    "bb = em.BlackBoxBlocker()\n",
    "bb.set_black_box_function(match_by_zip)\n",
    "C3 = bb.block_candset(C2)\n",
    "len(C3)"
   ]
  },
  {
   "cell_type": "markdown",
   "metadata": {},
   "source": [
    "By this step, the candidate set (C3) has been downsized to 18820. The fourth blocker is an blackbox blocker that performs blocking on C3 based on the first three digits of telephone number. If one pair of tuples doesn't share the same first three digits of phone number (which represents area), they are blocked."
   ]
  },
  {
   "cell_type": "code",
   "execution_count": 12,
   "metadata": {
    "collapsed": true
   },
   "outputs": [],
   "source": [
    "# Define a Black-box rule based on first three digits of phone number: If one pair of tuples doesn't share the same \n",
    "# first three digits of phone number (which represents area), they are blocked.\n",
    "def match_first_three_tele_num (ltuple, rtuple):\n",
    "\tl_area_code = ltuple['phone'].split()[0]\n",
    "\tr_area_code = rtuple['phone'].split()[0]\n",
    "\tif (l_area_code == r_area_code):\n",
    "\t\treturn False\n",
    "\telse:\n",
    "\t\treturn True"
   ]
  },
  {
   "cell_type": "code",
   "execution_count": 13,
   "metadata": {
    "collapsed": false
   },
   "outputs": [
    {
     "name": "stderr",
     "output_type": "stream",
     "text": [
      "0%                          100%\n",
      "[##############################] | ETA: 00:00:02 | ETA: 00:00:01 | ETA: 00:00:01 | ETA: 00:00:01 | ETA: 00:00:01 | ETA: 00:00:01 | ETA: 00:00:01 | ETA: 00:00:00 | ETA: 00:00:00 | ETA: 00:00:00 | ETA: 00:00:00 | ETA: 00:00:00 | ETA: 00:00:00 | ETA: 00:00:00 | ETA: 00:00:00 | ETA: 00:00:00 | ETA: 00:00:00 | ETA: 00:00:00 | ETA: 00:00:00 | ETA: 00:00:00 | ETA: 00:00:00 | ETA: 00:00:00 | ETA: 00:00:00 | ETA: 00:00:00 | ETA: 00:00:00 | ETA: 00:00:00 | ETA: 00:00:00 | ETA: 00:00:00 | ETA: 00:00:00 | ETA: 00:00:00 | ETA: 00:00:00\n",
      "Total time elapsed: 00:00:01\n"
     ]
    },
    {
     "data": {
      "text/plain": [
       "11765"
      ]
     },
     "execution_count": 13,
     "metadata": {},
     "output_type": "execute_result"
    }
   ],
   "source": [
    "# Create a Black-box blocker and perform blocking\n",
    "bb = em.BlackBoxBlocker()\n",
    "bb.set_black_box_function(match_first_three_tele_num)\n",
    "C4 = bb.block_candset(C3)\n",
    "len(C4)"
   ]
  },
  {
   "cell_type": "markdown",
   "metadata": {},
   "source": [
    "The size of candidate set right now (C4) is 11765. Next, we switch to debug on the blocker output."
   ]
  },
  {
   "cell_type": "markdown",
   "metadata": {},
   "source": [
    "### Debug on Blocker Output\n",
    "We want to make sure that out blockers didn't drop to many potential metches. We exam this by looking at the first ten pairs:"
   ]
  },
  {
   "cell_type": "code",
   "execution_count": 14,
   "metadata": {
    "collapsed": false
   },
   "outputs": [
    {
     "data": {
      "text/html": [
       "<div>\n",
       "<table border=\"1\" class=\"dataframe\">\n",
       "  <thead>\n",
       "    <tr style=\"text-align: right;\">\n",
       "      <th></th>\n",
       "      <th>_id</th>\n",
       "      <th>similarity</th>\n",
       "      <th>ltable_ID</th>\n",
       "      <th>rtable_ID</th>\n",
       "      <th>ltable_name</th>\n",
       "      <th>ltable_phone</th>\n",
       "      <th>ltable_address</th>\n",
       "      <th>ltable_cuisine</th>\n",
       "      <th>rtable_name</th>\n",
       "      <th>rtable_phone</th>\n",
       "      <th>rtable_address</th>\n",
       "      <th>rtable_cuisine</th>\n",
       "    </tr>\n",
       "  </thead>\n",
       "  <tbody>\n",
       "    <tr>\n",
       "      <th>0</th>\n",
       "      <td>0</td>\n",
       "      <td>0.600000</td>\n",
       "      <td>3049</td>\n",
       "      <td>5707</td>\n",
       "      <td>Mr. Brews Taphouse</td>\n",
       "      <td>(608) 845-2280</td>\n",
       "      <td>611 Hometown CirSte 104</td>\n",
       "      <td>American (Traditional)</td>\n",
       "      <td>Mr. Brews Taphouse</td>\n",
       "      <td>(608) 845-2280</td>\n",
       "      <td>Hometown Circle</td>\n",
       "      <td>Burger,Bar Food</td>\n",
       "    </tr>\n",
       "    <tr>\n",
       "      <th>1</th>\n",
       "      <td>1</td>\n",
       "      <td>0.555556</td>\n",
       "      <td>2991</td>\n",
       "      <td>5500</td>\n",
       "      <td>Athens Gyros</td>\n",
       "      <td>(608) 249-6720</td>\n",
       "      <td>5420 Willow Rd</td>\n",
       "      <td>Greek</td>\n",
       "      <td>Trader Gus</td>\n",
       "      <td>(608) 249-6720</td>\n",
       "      <td>5420 willow Rd</td>\n",
       "      <td>Greek</td>\n",
       "    </tr>\n",
       "    <tr>\n",
       "      <th>2</th>\n",
       "      <td>2</td>\n",
       "      <td>0.545455</td>\n",
       "      <td>1976</td>\n",
       "      <td>2681</td>\n",
       "      <td>Hatchet Hall</td>\n",
       "      <td>(310) 391-4222</td>\n",
       "      <td>12517 W Washington Blvd</td>\n",
       "      <td>American (Traditional)</td>\n",
       "      <td>Waterloo &amp; City</td>\n",
       "      <td>(310) 391-4222</td>\n",
       "      <td>12517 W Washington Blvd</td>\n",
       "      <td>NaN</td>\n",
       "    </tr>\n",
       "    <tr>\n",
       "      <th>3</th>\n",
       "      <td>3</td>\n",
       "      <td>0.461538</td>\n",
       "      <td>3160</td>\n",
       "      <td>5453</td>\n",
       "      <td>Sarku Japan</td>\n",
       "      <td>(608) 836-0818</td>\n",
       "      <td>108 W Towne Mall</td>\n",
       "      <td>Japanese</td>\n",
       "      <td>Kato's Cajun</td>\n",
       "      <td>(608) 836-0818</td>\n",
       "      <td>108 W Towne Mall Ste 157, Madison</td>\n",
       "      <td>Asian</td>\n",
       "    </tr>\n",
       "    <tr>\n",
       "      <th>4</th>\n",
       "      <td>4</td>\n",
       "      <td>0.454545</td>\n",
       "      <td>1947</td>\n",
       "      <td>4183</td>\n",
       "      <td>Ciabatta Bar</td>\n",
       "      <td>(323) 500-1121</td>\n",
       "      <td>6464 W Sunset Blvd</td>\n",
       "      <td>Italian</td>\n",
       "      <td>Bar Marmont</td>\n",
       "      <td>(323) 650-0575</td>\n",
       "      <td>8171 W Sunset Blvd</td>\n",
       "      <td>American,European</td>\n",
       "    </tr>\n",
       "    <tr>\n",
       "      <th>5</th>\n",
       "      <td>5</td>\n",
       "      <td>0.454545</td>\n",
       "      <td>1244</td>\n",
       "      <td>1914</td>\n",
       "      <td>Saint Ann</td>\n",
       "      <td>(214) 782-9807</td>\n",
       "      <td>2501 N Harwood St</td>\n",
       "      <td>American (New)</td>\n",
       "      <td>Mercat Bistro</td>\n",
       "      <td>(214) 953-0917</td>\n",
       "      <td>2501 N Harwood St</td>\n",
       "      <td>French</td>\n",
       "    </tr>\n",
       "    <tr>\n",
       "      <th>6</th>\n",
       "      <td>6</td>\n",
       "      <td>0.454545</td>\n",
       "      <td>2379</td>\n",
       "      <td>4994</td>\n",
       "      <td>The Paradise Lounge</td>\n",
       "      <td>(608) 256-2263</td>\n",
       "      <td>119 W Main St</td>\n",
       "      <td>Dive Bars</td>\n",
       "      <td>Borland's</td>\n",
       "      <td>(608) 424-3013</td>\n",
       "      <td>119 W Main St</td>\n",
       "      <td>American</td>\n",
       "    </tr>\n",
       "    <tr>\n",
       "      <th>7</th>\n",
       "      <td>7</td>\n",
       "      <td>0.454545</td>\n",
       "      <td>1516</td>\n",
       "      <td>1666</td>\n",
       "      <td>Meddlesome Moth</td>\n",
       "      <td>(214) 628-7900</td>\n",
       "      <td>1621 Oak Lawn Ave</td>\n",
       "      <td>Bars</td>\n",
       "      <td>Ascension Coffee</td>\n",
       "      <td>(214) 741-3211</td>\n",
       "      <td>1621 Oak Lawn Ave</td>\n",
       "      <td>Cafe,American</td>\n",
       "    </tr>\n",
       "    <tr>\n",
       "      <th>8</th>\n",
       "      <td>8</td>\n",
       "      <td>0.454545</td>\n",
       "      <td>2847</td>\n",
       "      <td>5472</td>\n",
       "      <td>Pooley s</td>\n",
       "      <td>(608) 242-1888</td>\n",
       "      <td>5441 High Crossing Blvd</td>\n",
       "      <td>Venues &amp; Event Spaces</td>\n",
       "      <td>Diggity's</td>\n",
       "      <td>(608) 242-1888</td>\n",
       "      <td>5441 High Crossing Blvd, Madison</td>\n",
       "      <td>Sandwich</td>\n",
       "    </tr>\n",
       "    <tr>\n",
       "      <th>9</th>\n",
       "      <td>9</td>\n",
       "      <td>0.437500</td>\n",
       "      <td>770</td>\n",
       "      <td>2265</td>\n",
       "      <td>Lake House Bar and Grill</td>\n",
       "      <td>(214) 484-8624</td>\n",
       "      <td>7510 E NW Hwy</td>\n",
       "      <td>American (New)</td>\n",
       "      <td>Lake House Bar &amp; Grill</td>\n",
       "      <td>(214) 484-8624</td>\n",
       "      <td>7510 East Northwest Highway, Dallas</td>\n",
       "      <td>American,Burger,Seafood</td>\n",
       "    </tr>\n",
       "  </tbody>\n",
       "</table>\n",
       "</div>"
      ],
      "text/plain": [
       "   _id  similarity  ltable_ID  rtable_ID               ltable_name  \\\n",
       "0    0    0.600000       3049       5707        Mr. Brews Taphouse   \n",
       "1    1    0.555556       2991       5500              Athens Gyros   \n",
       "2    2    0.545455       1976       2681              Hatchet Hall   \n",
       "3    3    0.461538       3160       5453               Sarku Japan   \n",
       "4    4    0.454545       1947       4183              Ciabatta Bar   \n",
       "5    5    0.454545       1244       1914                 Saint Ann   \n",
       "6    6    0.454545       2379       4994       The Paradise Lounge   \n",
       "7    7    0.454545       1516       1666           Meddlesome Moth   \n",
       "8    8    0.454545       2847       5472                  Pooley s   \n",
       "9    9    0.437500        770       2265  Lake House Bar and Grill   \n",
       "\n",
       "     ltable_phone           ltable_address          ltable_cuisine  \\\n",
       "0  (608) 845-2280  611 Hometown CirSte 104  American (Traditional)   \n",
       "1  (608) 249-6720           5420 Willow Rd                   Greek   \n",
       "2  (310) 391-4222  12517 W Washington Blvd  American (Traditional)   \n",
       "3  (608) 836-0818         108 W Towne Mall                Japanese   \n",
       "4  (323) 500-1121       6464 W Sunset Blvd                 Italian   \n",
       "5  (214) 782-9807        2501 N Harwood St          American (New)   \n",
       "6  (608) 256-2263            119 W Main St               Dive Bars   \n",
       "7  (214) 628-7900        1621 Oak Lawn Ave                    Bars   \n",
       "8  (608) 242-1888  5441 High Crossing Blvd   Venues & Event Spaces   \n",
       "9  (214) 484-8624            7510 E NW Hwy          American (New)   \n",
       "\n",
       "              rtable_name    rtable_phone  \\\n",
       "0      Mr. Brews Taphouse  (608) 845-2280   \n",
       "1              Trader Gus  (608) 249-6720   \n",
       "2         Waterloo & City  (310) 391-4222   \n",
       "3            Kato's Cajun  (608) 836-0818   \n",
       "4             Bar Marmont  (323) 650-0575   \n",
       "5           Mercat Bistro  (214) 953-0917   \n",
       "6               Borland's  (608) 424-3013   \n",
       "7        Ascension Coffee  (214) 741-3211   \n",
       "8               Diggity's  (608) 242-1888   \n",
       "9  Lake House Bar & Grill  (214) 484-8624   \n",
       "\n",
       "                        rtable_address           rtable_cuisine  \n",
       "0                      Hometown Circle          Burger,Bar Food  \n",
       "1                       5420 willow Rd                    Greek  \n",
       "2              12517 W Washington Blvd                      NaN  \n",
       "3    108 W Towne Mall Ste 157, Madison                    Asian  \n",
       "4                   8171 W Sunset Blvd        American,European  \n",
       "5                    2501 N Harwood St                   French  \n",
       "6                        119 W Main St                 American  \n",
       "7                    1621 Oak Lawn Ave            Cafe,American  \n",
       "8     5441 High Crossing Blvd, Madison                 Sandwich  \n",
       "9  7510 East Northwest Highway, Dallas  American,Burger,Seafood  "
      ]
     },
     "execution_count": 14,
     "metadata": {},
     "output_type": "execute_result"
    }
   ],
   "source": [
    "#Debug the blockers\n",
    "D = em.debug_blocker(C2,AA,BB)\n",
    "em.to_csv_metadata(D,'/home/hjw/cs838/stage3/restaurant/restaurants2/final/debug_block.csv')\n",
    "D.head(10)"
   ]
  },
  {
   "cell_type": "markdown",
   "metadata": {},
   "source": [
    "In those ten pairs, only two (the first and last) pairs are incorrectly blocked. By checking back the original tables, we find out the causes for them: the first one is a result of misplet address in Zomato table, the last one is a result of heavily abbreviated address in Yelp table. Since the table is sorted by simliarity score (from high to low), we conclude that such percentage of incorrectness is accepctable.  \n",
    "Since we think that 10K of tuples are a reasonable size, we decide to stop blocking here. Before we start the matching process, we save the final version of candidate set after the last blocker (C4) into a csv file."
   ]
  },
  {
   "cell_type": "code",
   "execution_count": 15,
   "metadata": {
    "collapsed": false
   },
   "outputs": [
    {
     "data": {
      "text/plain": [
       "True"
      ]
     },
     "execution_count": 15,
     "metadata": {},
     "output_type": "execute_result"
    }
   ],
   "source": [
    "em.to_csv_metadata(C4,'./C4.csv')"
   ]
  },
  {
   "cell_type": "markdown",
   "metadata": {},
   "source": [
    "## Matching the Tuple Pairs in the Candidate Set\n",
    "In the matching process, we would want to match the tuple pairs in the candidate set. Specifically, we use learning-based method for matching purposes. This typically involves the following four step:\n",
    "    1. Sampling and labeling the candidate set;\n",
    "    2. Splitting the labled data into development set and evaluation set;\n",
    "    3. Selecting the best learning based matcher using the development set;\n",
    "    3. Evaluating the selected matcher using the evaluation set."
   ]
  },
  {
   "cell_type": "markdown",
   "metadata": {},
   "source": [
    "## 4. Sampling and Labeling the Candidate Set\n",
    "First, we randomly sample 500 pairs and save for labeling purpose. "
   ]
  },
  {
   "cell_type": "code",
   "execution_count": 16,
   "metadata": {
    "collapsed": false
   },
   "outputs": [
    {
     "data": {
      "text/plain": [
       "True"
      ]
     },
     "execution_count": 16,
     "metadata": {},
     "output_type": "execute_result"
    }
   ],
   "source": [
    "Sample = em.sample_table(C4,sample_size=500)\n",
    "em.to_csv_metadata(Sample,'./labeled_data.csv')"
   ]
  },
  {
   "cell_type": "markdown",
   "metadata": {},
   "source": [
    "The data are then manually labelled. The labelled data is file 'labeled_data_1.csv'. The irrelevant attribute in labeled data (e.g., votes, rating) are deleted.\n",
    "The corresponding attributes in Tables AA and BB are also deleted. Then we read the labeled data and call it G:"
   ]
  },
  {
   "cell_type": "code",
   "execution_count": 17,
   "metadata": {
    "collapsed": false
   },
   "outputs": [
    {
     "data": {
      "text/html": [
       "<div>\n",
       "<table border=\"1\" class=\"dataframe\">\n",
       "  <thead>\n",
       "    <tr style=\"text-align: right;\">\n",
       "      <th></th>\n",
       "      <th>_id</th>\n",
       "      <th>ltable_ID</th>\n",
       "      <th>rtable_ID</th>\n",
       "      <th>ltable_name</th>\n",
       "      <th>ltable_phone</th>\n",
       "      <th>ltable_address</th>\n",
       "      <th>ltable_zip</th>\n",
       "      <th>rtable_name</th>\n",
       "      <th>rtable_phone</th>\n",
       "      <th>rtable_address</th>\n",
       "      <th>rtable_zip</th>\n",
       "      <th>gold</th>\n",
       "    </tr>\n",
       "  </thead>\n",
       "  <tbody>\n",
       "    <tr>\n",
       "      <th>0</th>\n",
       "      <td>723</td>\n",
       "      <td>279</td>\n",
       "      <td>7</td>\n",
       "      <td>Gyros On The Spit</td>\n",
       "      <td>(773) 698-7999</td>\n",
       "      <td>2826 N Lincoln Ave</td>\n",
       "      <td>60657</td>\n",
       "      <td>Father &amp; Son</td>\n",
       "      <td>(773) 252-2620</td>\n",
       "      <td>2475 N. Milwaukee Ave, Chicago</td>\n",
       "      <td>60647</td>\n",
       "      <td>0</td>\n",
       "    </tr>\n",
       "    <tr>\n",
       "      <th>1</th>\n",
       "      <td>738</td>\n",
       "      <td>363</td>\n",
       "      <td>7</td>\n",
       "      <td>The Garage Bar &amp; Sandwiches</td>\n",
       "      <td>(773) 647-1386</td>\n",
       "      <td>6154 N Milwaukee Ave</td>\n",
       "      <td>60646</td>\n",
       "      <td>Father &amp; Son</td>\n",
       "      <td>(773) 252-2620</td>\n",
       "      <td>2475 N. Milwaukee Ave, Chicago</td>\n",
       "      <td>60647</td>\n",
       "      <td>0</td>\n",
       "    </tr>\n",
       "    <tr>\n",
       "      <th>2</th>\n",
       "      <td>8222</td>\n",
       "      <td>256</td>\n",
       "      <td>50</td>\n",
       "      <td>Takos Koreanos</td>\n",
       "      <td>(773) 654-1220</td>\n",
       "      <td>1706 W Foster Ave</td>\n",
       "      <td>60640</td>\n",
       "      <td>L' Patron Tacos</td>\n",
       "      <td>(773) 252-6335</td>\n",
       "      <td>2815 W. Diversey Ave, Chicago</td>\n",
       "      <td>60647</td>\n",
       "      <td>0</td>\n",
       "    </tr>\n",
       "    <tr>\n",
       "      <th>3</th>\n",
       "      <td>8312</td>\n",
       "      <td>689</td>\n",
       "      <td>50</td>\n",
       "      <td>Los 3 Panchos</td>\n",
       "      <td>(773) 935-3198</td>\n",
       "      <td>1155 W Diversey Pkwy</td>\n",
       "      <td>60614</td>\n",
       "      <td>L' Patron Tacos</td>\n",
       "      <td>(773) 252-6335</td>\n",
       "      <td>2815 W. Diversey Ave, Chicago</td>\n",
       "      <td>60647</td>\n",
       "      <td>0</td>\n",
       "    </tr>\n",
       "    <tr>\n",
       "      <th>4</th>\n",
       "      <td>9221</td>\n",
       "      <td>352</td>\n",
       "      <td>58</td>\n",
       "      <td>Groundswell Coffee Roasters</td>\n",
       "      <td>(773) 754-7590</td>\n",
       "      <td>4839 N Damen Ave</td>\n",
       "      <td>60625</td>\n",
       "      <td>Northside Bar and Grill</td>\n",
       "      <td>(773) 384-3555</td>\n",
       "      <td>1635 N. Damen Ave, Chicago</td>\n",
       "      <td>60647</td>\n",
       "      <td>0</td>\n",
       "    </tr>\n",
       "  </tbody>\n",
       "</table>\n",
       "</div>"
      ],
      "text/plain": [
       "    _id  ltable_ID  rtable_ID                  ltable_name    ltable_phone  \\\n",
       "0   723        279          7            Gyros On The Spit  (773) 698-7999   \n",
       "1   738        363          7  The Garage Bar & Sandwiches  (773) 647-1386   \n",
       "2  8222        256         50               Takos Koreanos  (773) 654-1220   \n",
       "3  8312        689         50                Los 3 Panchos  (773) 935-3198   \n",
       "4  9221        352         58  Groundswell Coffee Roasters  (773) 754-7590   \n",
       "\n",
       "         ltable_address  ltable_zip              rtable_name    rtable_phone  \\\n",
       "0    2826 N Lincoln Ave       60657             Father & Son  (773) 252-2620   \n",
       "1  6154 N Milwaukee Ave       60646             Father & Son  (773) 252-2620   \n",
       "2     1706 W Foster Ave       60640          L' Patron Tacos  (773) 252-6335   \n",
       "3  1155 W Diversey Pkwy       60614          L' Patron Tacos  (773) 252-6335   \n",
       "4      4839 N Damen Ave       60625  Northside Bar and Grill  (773) 384-3555   \n",
       "\n",
       "                   rtable_address  rtable_zip  gold  \n",
       "0  2475 N. Milwaukee Ave, Chicago       60647     0  \n",
       "1  2475 N. Milwaukee Ave, Chicago       60647     0  \n",
       "2   2815 W. Diversey Ave, Chicago       60647     0  \n",
       "3   2815 W. Diversey Ave, Chicago       60647     0  \n",
       "4      1635 N. Damen Ave, Chicago       60647     0  "
      ]
     },
     "execution_count": 17,
     "metadata": {},
     "output_type": "execute_result"
    }
   ],
   "source": [
    "# copy tables AA and BB and then delete irrelevant attributes\n",
    "AA1 = AA\n",
    "BB1 = BB\n",
    "del AA1['votes']\n",
    "del AA1['rating']\n",
    "del AA1['cuisine']\n",
    "del BB1['votes']\n",
    "del BB1['rating']\n",
    "del BB1['cuisine']\n",
    "del BB1['reviewcount']\n",
    "\n",
    "# Display labeled pairs\n",
    "G = em.read_csv_metadata('/home/hjw/cs838/stage3/restaurant/restaurants2/final/labeled_data_1.csv', key='_id',ltable=AA1,rtable=BB1,fk_ltable='ltable_ID', fk_rtable='rtable_ID')\n",
    "len(G)\n",
    "G.head()"
   ]
  },
  {
   "cell_type": "markdown",
   "metadata": {},
   "source": [
    "## 5. Splitting the Labled Data into Development Set and Evaluation Set\n",
    "In this step, we split the labeled data into two sets: development (I) and evaluation (J). Specifically, the development set is used to come up with the best learning-based matcher, and evaluation set used to evaluate the selected matcher with only one time."
   ]
  },
  {
   "cell_type": "code",
   "execution_count": 18,
   "metadata": {
    "collapsed": false
   },
   "outputs": [
    {
     "data": {
      "text/plain": [
       "True"
      ]
     },
     "execution_count": 18,
     "metadata": {},
     "output_type": "execute_result"
    }
   ],
   "source": [
    "##divide the train set and test set, whcih is set I (devel_set) and J (eval_set) repectively\n",
    "train_test = em.split_train_test(G, train_proportion=0.6)\n",
    "#set the development set\n",
    "devel_set = train_test['train']\n",
    "#set the test set\n",
    "eval_set = train_test['test']\n",
    "#save train set and test set\n",
    "em.to_csv_metadata(devel_set,'./SetI.csv')\n",
    "em.to_csv_metadata(eval_set,'./SetJ.csv')"
   ]
  },
  {
   "cell_type": "markdown",
   "metadata": {},
   "source": [
    "## 6. Creating a set of learning-based matchers"
   ]
  },
  {
   "cell_type": "code",
   "execution_count": 19,
   "metadata": {
    "collapsed": true
   },
   "outputs": [],
   "source": [
    "#construct six learning-based matcher \n",
    "dt = em.DTMatcher(name='DT', random_state=0)\n",
    "svm = em.SVMMatcher(name='SVM', random_state=0)\n",
    "rf = em.RFMatcher(name='RF', random_state=0)\n",
    "lg = em.LogRegMatcher(name='LogReg', random_state=0)\n",
    "ln = em.LinRegMatcher(name='LinReg')\n",
    "nb = em.NBMatcher(name='NB')"
   ]
  },
  {
   "cell_type": "markdown",
   "metadata": {},
   "source": [
    "## 7. Selecting the Best Learning-Based Matcher Using the Development Set\n"
   ]
  },
  {
   "cell_type": "markdown",
   "metadata": {},
   "source": [
    "### a. Creating features table\n",
    "Since we delete some of the irrelevant attribute in labeled data G, we don't want to generate features related to these attributes (namely votes, rating, cuisine and reviewcount'), so we first delete those features from original tables AA and BB, and then generate feature tables."
   ]
  },
  {
   "cell_type": "code",
   "execution_count": 20,
   "metadata": {
    "collapsed": true
   },
   "outputs": [],
   "source": [
    "#construct feature table\n",
    "feature_table = em.get_features_for_matching(AA1,BB1)"
   ]
  },
  {
   "cell_type": "markdown",
   "metadata": {},
   "source": [
    "### b. Convering I into a set H of feature vectors "
   ]
  },
  {
   "cell_type": "code",
   "execution_count": 21,
   "metadata": {
    "collapsed": true
   },
   "outputs": [],
   "source": [
    "#construct feature vector for each each candidate pair\n",
    "H = em.extract_feature_vecs(devel_set,feature_table=feature_table, attrs_after='gold',show_progress=False)"
   ]
  },
  {
   "cell_type": "markdown",
   "metadata": {},
   "source": [
    "### c. Filling in the missing values if any (skipped)\n",
    "Our dataset doesn't have missing value issue, so we just skip this step."
   ]
  },
  {
   "cell_type": "markdown",
   "metadata": {},
   "source": [
    "### d. Selecting the best learning-based matcher using k-fold cross validation\n",
    "There is still some features in H that we want to exclude, we put these features in to a cell attr_to_exclude, and set the exclude_attrs to be it when we do cross validation. To guarantee each time we generate the same fold for obtain f1, precision and recall, we set random_state=0."
   ]
  },
  {
   "cell_type": "code",
   "execution_count": 22,
   "metadata": {
    "collapsed": true
   },
   "outputs": [],
   "source": [
    "#do the cross validation\n",
    "attr_to_exclude=['_id', 'ltable_ID', 'rtable_ID', 'gold'];\n",
    "result_f1 = em.select_matcher([dt, rf, svm, ln, lg, nb], table=H, exclude_attrs=attr_to_exclude, k=5, target_attr='gold', metric='f1', random_state=0)   \n",
    "result_prec = em.select_matcher([dt, rf, svm, ln, lg, nb], table=H, exclude_attrs=attr_to_exclude, k=5, target_attr='gold', metric='precision', random_state=0)   \n",
    "result_rec = em.select_matcher([dt, rf, svm, ln, lg, nb], table=H, exclude_attrs=attr_to_exclude, k=5, target_attr='gold', metric='recall', random_state=0)   "
   ]
  },
  {
   "cell_type": "code",
   "execution_count": 23,
   "metadata": {
    "collapsed": false
   },
   "outputs": [
    {
     "data": {
      "text/html": [
       "<div>\n",
       "<table border=\"1\" class=\"dataframe\">\n",
       "  <thead>\n",
       "    <tr style=\"text-align: right;\">\n",
       "      <th></th>\n",
       "      <th>Name</th>\n",
       "      <th>Matcher</th>\n",
       "      <th>Num folds</th>\n",
       "      <th>Fold 1</th>\n",
       "      <th>Fold 2</th>\n",
       "      <th>Fold 3</th>\n",
       "      <th>Fold 4</th>\n",
       "      <th>Fold 5</th>\n",
       "      <th>Mean score</th>\n",
       "    </tr>\n",
       "  </thead>\n",
       "  <tbody>\n",
       "    <tr>\n",
       "      <th>0</th>\n",
       "      <td>DT</td>\n",
       "      <td>&lt;py_entitymatching.matcher.dtmatcher.DTMatcher object at 0x7f4e9f6da190&gt;</td>\n",
       "      <td>5</td>\n",
       "      <td>0.956522</td>\n",
       "      <td>1.0</td>\n",
       "      <td>0.947368</td>\n",
       "      <td>0.875</td>\n",
       "      <td>0.818182</td>\n",
       "      <td>0.919414</td>\n",
       "    </tr>\n",
       "    <tr>\n",
       "      <th>1</th>\n",
       "      <td>RF</td>\n",
       "      <td>&lt;py_entitymatching.matcher.rfmatcher.RFMatcher object at 0x7f4e9f6da110&gt;</td>\n",
       "      <td>5</td>\n",
       "      <td>1.000000</td>\n",
       "      <td>1.0</td>\n",
       "      <td>1.000000</td>\n",
       "      <td>0.875</td>\n",
       "      <td>0.962963</td>\n",
       "      <td>0.967593</td>\n",
       "    </tr>\n",
       "    <tr>\n",
       "      <th>2</th>\n",
       "      <td>SVM</td>\n",
       "      <td>&lt;py_entitymatching.matcher.svmmatcher.SVMMatcher object at 0x7f4e9f6da9d0&gt;</td>\n",
       "      <td>5</td>\n",
       "      <td>0.666667</td>\n",
       "      <td>1.0</td>\n",
       "      <td>0.888889</td>\n",
       "      <td>0.800</td>\n",
       "      <td>0.700000</td>\n",
       "      <td>0.811111</td>\n",
       "    </tr>\n",
       "    <tr>\n",
       "      <th>3</th>\n",
       "      <td>LinReg</td>\n",
       "      <td>&lt;py_entitymatching.matcher.linregmatcher.LinRegMatcher object at 0x7f4e9f6da650&gt;</td>\n",
       "      <td>5</td>\n",
       "      <td>1.000000</td>\n",
       "      <td>1.0</td>\n",
       "      <td>1.000000</td>\n",
       "      <td>0.875</td>\n",
       "      <td>0.962963</td>\n",
       "      <td>0.967593</td>\n",
       "    </tr>\n",
       "    <tr>\n",
       "      <th>4</th>\n",
       "      <td>LogReg</td>\n",
       "      <td>&lt;py_entitymatching.matcher.logregmatcher.LogRegMatcher object at 0x7f4e9f6da350&gt;</td>\n",
       "      <td>5</td>\n",
       "      <td>1.000000</td>\n",
       "      <td>1.0</td>\n",
       "      <td>1.000000</td>\n",
       "      <td>0.875</td>\n",
       "      <td>0.880000</td>\n",
       "      <td>0.951000</td>\n",
       "    </tr>\n",
       "    <tr>\n",
       "      <th>5</th>\n",
       "      <td>NB</td>\n",
       "      <td>&lt;py_entitymatching.matcher.nbmatcher.NBMatcher object at 0x7f4e9f6dad50&gt;</td>\n",
       "      <td>5</td>\n",
       "      <td>1.000000</td>\n",
       "      <td>1.0</td>\n",
       "      <td>1.000000</td>\n",
       "      <td>0.875</td>\n",
       "      <td>0.962963</td>\n",
       "      <td>0.967593</td>\n",
       "    </tr>\n",
       "  </tbody>\n",
       "</table>\n",
       "</div>"
      ],
      "text/plain": [
       "     Name  \\\n",
       "0      DT   \n",
       "1      RF   \n",
       "2     SVM   \n",
       "3  LinReg   \n",
       "4  LogReg   \n",
       "5      NB   \n",
       "\n",
       "                                                                            Matcher  \\\n",
       "0          <py_entitymatching.matcher.dtmatcher.DTMatcher object at 0x7f4e9f6da190>   \n",
       "1          <py_entitymatching.matcher.rfmatcher.RFMatcher object at 0x7f4e9f6da110>   \n",
       "2        <py_entitymatching.matcher.svmmatcher.SVMMatcher object at 0x7f4e9f6da9d0>   \n",
       "3  <py_entitymatching.matcher.linregmatcher.LinRegMatcher object at 0x7f4e9f6da650>   \n",
       "4  <py_entitymatching.matcher.logregmatcher.LogRegMatcher object at 0x7f4e9f6da350>   \n",
       "5          <py_entitymatching.matcher.nbmatcher.NBMatcher object at 0x7f4e9f6dad50>   \n",
       "\n",
       "   Num folds    Fold 1  Fold 2    Fold 3  Fold 4    Fold 5  Mean score  \n",
       "0          5  0.956522     1.0  0.947368   0.875  0.818182    0.919414  \n",
       "1          5  1.000000     1.0  1.000000   0.875  0.962963    0.967593  \n",
       "2          5  0.666667     1.0  0.888889   0.800  0.700000    0.811111  \n",
       "3          5  1.000000     1.0  1.000000   0.875  0.962963    0.967593  \n",
       "4          5  1.000000     1.0  1.000000   0.875  0.880000    0.951000  \n",
       "5          5  1.000000     1.0  1.000000   0.875  0.962963    0.967593  "
      ]
     },
     "execution_count": 23,
     "metadata": {},
     "output_type": "execute_result"
    }
   ],
   "source": [
    "#show f1/precision/recall on each ML model\n",
    "result_f1['cv_stats']"
   ]
  },
  {
   "cell_type": "code",
   "execution_count": 24,
   "metadata": {
    "collapsed": false
   },
   "outputs": [
    {
     "data": {
      "text/html": [
       "<div>\n",
       "<table border=\"1\" class=\"dataframe\">\n",
       "  <thead>\n",
       "    <tr style=\"text-align: right;\">\n",
       "      <th></th>\n",
       "      <th>Name</th>\n",
       "      <th>Matcher</th>\n",
       "      <th>Num folds</th>\n",
       "      <th>Fold 1</th>\n",
       "      <th>Fold 2</th>\n",
       "      <th>Fold 3</th>\n",
       "      <th>Fold 4</th>\n",
       "      <th>Fold 5</th>\n",
       "      <th>Mean score</th>\n",
       "    </tr>\n",
       "  </thead>\n",
       "  <tbody>\n",
       "    <tr>\n",
       "      <th>0</th>\n",
       "      <td>DT</td>\n",
       "      <td>&lt;py_entitymatching.matcher.dtmatcher.DTMatcher object at 0x7f4e9f6da190&gt;</td>\n",
       "      <td>5</td>\n",
       "      <td>1.0</td>\n",
       "      <td>1.0</td>\n",
       "      <td>1.0</td>\n",
       "      <td>0.777778</td>\n",
       "      <td>1.000000</td>\n",
       "      <td>0.955556</td>\n",
       "    </tr>\n",
       "    <tr>\n",
       "      <th>1</th>\n",
       "      <td>RF</td>\n",
       "      <td>&lt;py_entitymatching.matcher.rfmatcher.RFMatcher object at 0x7f4e9f6da110&gt;</td>\n",
       "      <td>5</td>\n",
       "      <td>1.0</td>\n",
       "      <td>1.0</td>\n",
       "      <td>1.0</td>\n",
       "      <td>0.777778</td>\n",
       "      <td>0.928571</td>\n",
       "      <td>0.941270</td>\n",
       "    </tr>\n",
       "    <tr>\n",
       "      <th>2</th>\n",
       "      <td>SVM</td>\n",
       "      <td>&lt;py_entitymatching.matcher.svmmatcher.SVMMatcher object at 0x7f4e9f6da9d0&gt;</td>\n",
       "      <td>5</td>\n",
       "      <td>1.0</td>\n",
       "      <td>1.0</td>\n",
       "      <td>1.0</td>\n",
       "      <td>0.750000</td>\n",
       "      <td>1.000000</td>\n",
       "      <td>0.950000</td>\n",
       "    </tr>\n",
       "    <tr>\n",
       "      <th>3</th>\n",
       "      <td>LinReg</td>\n",
       "      <td>&lt;py_entitymatching.matcher.linregmatcher.LinRegMatcher object at 0x7f4e9f6da650&gt;</td>\n",
       "      <td>5</td>\n",
       "      <td>1.0</td>\n",
       "      <td>1.0</td>\n",
       "      <td>1.0</td>\n",
       "      <td>0.777778</td>\n",
       "      <td>0.928571</td>\n",
       "      <td>0.941270</td>\n",
       "    </tr>\n",
       "    <tr>\n",
       "      <th>4</th>\n",
       "      <td>LogReg</td>\n",
       "      <td>&lt;py_entitymatching.matcher.logregmatcher.LogRegMatcher object at 0x7f4e9f6da350&gt;</td>\n",
       "      <td>5</td>\n",
       "      <td>1.0</td>\n",
       "      <td>1.0</td>\n",
       "      <td>1.0</td>\n",
       "      <td>0.777778</td>\n",
       "      <td>0.916667</td>\n",
       "      <td>0.938889</td>\n",
       "    </tr>\n",
       "    <tr>\n",
       "      <th>5</th>\n",
       "      <td>NB</td>\n",
       "      <td>&lt;py_entitymatching.matcher.nbmatcher.NBMatcher object at 0x7f4e9f6dad50&gt;</td>\n",
       "      <td>5</td>\n",
       "      <td>1.0</td>\n",
       "      <td>1.0</td>\n",
       "      <td>1.0</td>\n",
       "      <td>0.777778</td>\n",
       "      <td>0.928571</td>\n",
       "      <td>0.941270</td>\n",
       "    </tr>\n",
       "  </tbody>\n",
       "</table>\n",
       "</div>"
      ],
      "text/plain": [
       "     Name  \\\n",
       "0      DT   \n",
       "1      RF   \n",
       "2     SVM   \n",
       "3  LinReg   \n",
       "4  LogReg   \n",
       "5      NB   \n",
       "\n",
       "                                                                            Matcher  \\\n",
       "0          <py_entitymatching.matcher.dtmatcher.DTMatcher object at 0x7f4e9f6da190>   \n",
       "1          <py_entitymatching.matcher.rfmatcher.RFMatcher object at 0x7f4e9f6da110>   \n",
       "2        <py_entitymatching.matcher.svmmatcher.SVMMatcher object at 0x7f4e9f6da9d0>   \n",
       "3  <py_entitymatching.matcher.linregmatcher.LinRegMatcher object at 0x7f4e9f6da650>   \n",
       "4  <py_entitymatching.matcher.logregmatcher.LogRegMatcher object at 0x7f4e9f6da350>   \n",
       "5          <py_entitymatching.matcher.nbmatcher.NBMatcher object at 0x7f4e9f6dad50>   \n",
       "\n",
       "   Num folds  Fold 1  Fold 2  Fold 3    Fold 4    Fold 5  Mean score  \n",
       "0          5     1.0     1.0     1.0  0.777778  1.000000    0.955556  \n",
       "1          5     1.0     1.0     1.0  0.777778  0.928571    0.941270  \n",
       "2          5     1.0     1.0     1.0  0.750000  1.000000    0.950000  \n",
       "3          5     1.0     1.0     1.0  0.777778  0.928571    0.941270  \n",
       "4          5     1.0     1.0     1.0  0.777778  0.916667    0.938889  \n",
       "5          5     1.0     1.0     1.0  0.777778  0.928571    0.941270  "
      ]
     },
     "execution_count": 24,
     "metadata": {},
     "output_type": "execute_result"
    }
   ],
   "source": [
    "result_prec['cv_stats']"
   ]
  },
  {
   "cell_type": "code",
   "execution_count": 25,
   "metadata": {
    "collapsed": false
   },
   "outputs": [
    {
     "data": {
      "text/html": [
       "<div>\n",
       "<table border=\"1\" class=\"dataframe\">\n",
       "  <thead>\n",
       "    <tr style=\"text-align: right;\">\n",
       "      <th></th>\n",
       "      <th>Name</th>\n",
       "      <th>Matcher</th>\n",
       "      <th>Num folds</th>\n",
       "      <th>Fold 1</th>\n",
       "      <th>Fold 2</th>\n",
       "      <th>Fold 3</th>\n",
       "      <th>Fold 4</th>\n",
       "      <th>Fold 5</th>\n",
       "      <th>Mean score</th>\n",
       "    </tr>\n",
       "  </thead>\n",
       "  <tbody>\n",
       "    <tr>\n",
       "      <th>0</th>\n",
       "      <td>DT</td>\n",
       "      <td>&lt;py_entitymatching.matcher.dtmatcher.DTMatcher object at 0x7f4e9f6da190&gt;</td>\n",
       "      <td>5</td>\n",
       "      <td>0.916667</td>\n",
       "      <td>1.0</td>\n",
       "      <td>0.9</td>\n",
       "      <td>1.000000</td>\n",
       "      <td>0.692308</td>\n",
       "      <td>0.901795</td>\n",
       "    </tr>\n",
       "    <tr>\n",
       "      <th>1</th>\n",
       "      <td>RF</td>\n",
       "      <td>&lt;py_entitymatching.matcher.rfmatcher.RFMatcher object at 0x7f4e9f6da110&gt;</td>\n",
       "      <td>5</td>\n",
       "      <td>1.000000</td>\n",
       "      <td>1.0</td>\n",
       "      <td>1.0</td>\n",
       "      <td>1.000000</td>\n",
       "      <td>1.000000</td>\n",
       "      <td>1.000000</td>\n",
       "    </tr>\n",
       "    <tr>\n",
       "      <th>2</th>\n",
       "      <td>SVM</td>\n",
       "      <td>&lt;py_entitymatching.matcher.svmmatcher.SVMMatcher object at 0x7f4e9f6da9d0&gt;</td>\n",
       "      <td>5</td>\n",
       "      <td>0.500000</td>\n",
       "      <td>1.0</td>\n",
       "      <td>0.8</td>\n",
       "      <td>0.857143</td>\n",
       "      <td>0.538462</td>\n",
       "      <td>0.739121</td>\n",
       "    </tr>\n",
       "    <tr>\n",
       "      <th>3</th>\n",
       "      <td>LinReg</td>\n",
       "      <td>&lt;py_entitymatching.matcher.linregmatcher.LinRegMatcher object at 0x7f4e9f6da650&gt;</td>\n",
       "      <td>5</td>\n",
       "      <td>1.000000</td>\n",
       "      <td>1.0</td>\n",
       "      <td>1.0</td>\n",
       "      <td>1.000000</td>\n",
       "      <td>1.000000</td>\n",
       "      <td>1.000000</td>\n",
       "    </tr>\n",
       "    <tr>\n",
       "      <th>4</th>\n",
       "      <td>LogReg</td>\n",
       "      <td>&lt;py_entitymatching.matcher.logregmatcher.LogRegMatcher object at 0x7f4e9f6da350&gt;</td>\n",
       "      <td>5</td>\n",
       "      <td>1.000000</td>\n",
       "      <td>1.0</td>\n",
       "      <td>1.0</td>\n",
       "      <td>1.000000</td>\n",
       "      <td>0.846154</td>\n",
       "      <td>0.969231</td>\n",
       "    </tr>\n",
       "    <tr>\n",
       "      <th>5</th>\n",
       "      <td>NB</td>\n",
       "      <td>&lt;py_entitymatching.matcher.nbmatcher.NBMatcher object at 0x7f4e9f6dad50&gt;</td>\n",
       "      <td>5</td>\n",
       "      <td>1.000000</td>\n",
       "      <td>1.0</td>\n",
       "      <td>1.0</td>\n",
       "      <td>1.000000</td>\n",
       "      <td>1.000000</td>\n",
       "      <td>1.000000</td>\n",
       "    </tr>\n",
       "  </tbody>\n",
       "</table>\n",
       "</div>"
      ],
      "text/plain": [
       "     Name  \\\n",
       "0      DT   \n",
       "1      RF   \n",
       "2     SVM   \n",
       "3  LinReg   \n",
       "4  LogReg   \n",
       "5      NB   \n",
       "\n",
       "                                                                            Matcher  \\\n",
       "0          <py_entitymatching.matcher.dtmatcher.DTMatcher object at 0x7f4e9f6da190>   \n",
       "1          <py_entitymatching.matcher.rfmatcher.RFMatcher object at 0x7f4e9f6da110>   \n",
       "2        <py_entitymatching.matcher.svmmatcher.SVMMatcher object at 0x7f4e9f6da9d0>   \n",
       "3  <py_entitymatching.matcher.linregmatcher.LinRegMatcher object at 0x7f4e9f6da650>   \n",
       "4  <py_entitymatching.matcher.logregmatcher.LogRegMatcher object at 0x7f4e9f6da350>   \n",
       "5          <py_entitymatching.matcher.nbmatcher.NBMatcher object at 0x7f4e9f6dad50>   \n",
       "\n",
       "   Num folds    Fold 1  Fold 2  Fold 3    Fold 4    Fold 5  Mean score  \n",
       "0          5  0.916667     1.0     0.9  1.000000  0.692308    0.901795  \n",
       "1          5  1.000000     1.0     1.0  1.000000  1.000000    1.000000  \n",
       "2          5  0.500000     1.0     0.8  0.857143  0.538462    0.739121  \n",
       "3          5  1.000000     1.0     1.0  1.000000  1.000000    1.000000  \n",
       "4          5  1.000000     1.0     1.0  1.000000  0.846154    0.969231  \n",
       "5          5  1.000000     1.0     1.0  1.000000  1.000000    1.000000  "
      ]
     },
     "execution_count": 25,
     "metadata": {},
     "output_type": "execute_result"
    }
   ],
   "source": [
    "result_rec['cv_stats']"
   ]
  },
  {
   "cell_type": "markdown",
   "metadata": {},
   "source": [
    "We find that all matchers are fairly good. After Considering both precision and recall, we select Naive Bayes matcher."
   ]
  },
  {
   "cell_type": "markdown",
   "metadata": {},
   "source": [
    "### e. Debugging the matcher\n",
    "Though we already have high precision and recall, we still want to see whether we can improve our matcher. Thus we combine the two most important attribute, name and address, calculate the jaccard score of the combination of this two, we add this feature to the feature_table as a new feature."
   ]
  },
  {
   "cell_type": "code",
   "execution_count": 26,
   "metadata": {
    "collapsed": true
   },
   "outputs": [],
   "source": [
    "#Debug ML model, add a new feature, which combine the name and address and calculate the jaccard score\n",
    "sim = em.get_sim_funs_for_matching()\n",
    "tok = em.get_tokenizers_for_matching()\n",
    "\n",
    "feature_string = \"\"\"jaccard(wspace((ltuple['name'] + ' ' + ltuple['address']).lower()), \n",
    "                            wspace((rtuple['name'] + ' ' + rtuple['address']).lower()))\"\"\"\n",
    "feature = em.get_feature_fn(feature_string, sim, tok)\n",
    "\n",
    "em.add_feature(feature_table, 'jac_ws_name_address', feature)\n",
    "\n",
    "H = em.extract_feature_vecs(devel_set,feature_table=feature_table, attrs_after='gold',show_progress=False)"
   ]
  },
  {
   "cell_type": "markdown",
   "metadata": {},
   "source": [
    "Next, test the perfomance of all ML models after adding the new feature."
   ]
  },
  {
   "cell_type": "code",
   "execution_count": 27,
   "metadata": {
    "collapsed": true
   },
   "outputs": [],
   "source": [
    "#Test the perfomance of all ML model after adding the new feature\n",
    "resultf_f1 = em.select_matcher([dt, rf, svm, ln, lg, nb], table=H, exclude_attrs=attr_to_exclude, k=5, target_attr='gold', metric='f1',random_state=0)\n",
    "resultf_prec = em.select_matcher([dt, rf, svm, ln, lg, nb], table=H, exclude_attrs=attr_to_exclude, k=5, target_attr='gold', metric='precision',random_state=0) \n",
    "resultf_rec = em.select_matcher([dt, rf, svm, ln, lg, nb], table=H, exclude_attrs=attr_to_exclude, k=5, target_attr='gold', metric='recall',random_state=0)"
   ]
  },
  {
   "cell_type": "code",
   "execution_count": 28,
   "metadata": {
    "collapsed": false
   },
   "outputs": [
    {
     "data": {
      "text/html": [
       "<div>\n",
       "<table border=\"1\" class=\"dataframe\">\n",
       "  <thead>\n",
       "    <tr style=\"text-align: right;\">\n",
       "      <th></th>\n",
       "      <th>Name</th>\n",
       "      <th>Matcher</th>\n",
       "      <th>Num folds</th>\n",
       "      <th>Fold 1</th>\n",
       "      <th>Fold 2</th>\n",
       "      <th>Fold 3</th>\n",
       "      <th>Fold 4</th>\n",
       "      <th>Fold 5</th>\n",
       "      <th>Mean score</th>\n",
       "    </tr>\n",
       "  </thead>\n",
       "  <tbody>\n",
       "    <tr>\n",
       "      <th>0</th>\n",
       "      <td>DT</td>\n",
       "      <td>&lt;py_entitymatching.matcher.dtmatcher.DTMatcher object at 0x7f4e9f6da190&gt;</td>\n",
       "      <td>5</td>\n",
       "      <td>0.956522</td>\n",
       "      <td>1.0</td>\n",
       "      <td>0.947368</td>\n",
       "      <td>0.875</td>\n",
       "      <td>0.833333</td>\n",
       "      <td>0.922445</td>\n",
       "    </tr>\n",
       "    <tr>\n",
       "      <th>1</th>\n",
       "      <td>RF</td>\n",
       "      <td>&lt;py_entitymatching.matcher.rfmatcher.RFMatcher object at 0x7f4e9f6da110&gt;</td>\n",
       "      <td>5</td>\n",
       "      <td>0.956522</td>\n",
       "      <td>1.0</td>\n",
       "      <td>1.000000</td>\n",
       "      <td>0.875</td>\n",
       "      <td>0.923077</td>\n",
       "      <td>0.950920</td>\n",
       "    </tr>\n",
       "    <tr>\n",
       "      <th>2</th>\n",
       "      <td>SVM</td>\n",
       "      <td>&lt;py_entitymatching.matcher.svmmatcher.SVMMatcher object at 0x7f4e9f6da9d0&gt;</td>\n",
       "      <td>5</td>\n",
       "      <td>0.666667</td>\n",
       "      <td>1.0</td>\n",
       "      <td>0.888889</td>\n",
       "      <td>0.800</td>\n",
       "      <td>0.700000</td>\n",
       "      <td>0.811111</td>\n",
       "    </tr>\n",
       "    <tr>\n",
       "      <th>3</th>\n",
       "      <td>LinReg</td>\n",
       "      <td>&lt;py_entitymatching.matcher.linregmatcher.LinRegMatcher object at 0x7f4e9f6da650&gt;</td>\n",
       "      <td>5</td>\n",
       "      <td>1.000000</td>\n",
       "      <td>1.0</td>\n",
       "      <td>1.000000</td>\n",
       "      <td>0.875</td>\n",
       "      <td>0.962963</td>\n",
       "      <td>0.967593</td>\n",
       "    </tr>\n",
       "    <tr>\n",
       "      <th>4</th>\n",
       "      <td>LogReg</td>\n",
       "      <td>&lt;py_entitymatching.matcher.logregmatcher.LogRegMatcher object at 0x7f4e9f6da350&gt;</td>\n",
       "      <td>5</td>\n",
       "      <td>1.000000</td>\n",
       "      <td>1.0</td>\n",
       "      <td>1.000000</td>\n",
       "      <td>0.875</td>\n",
       "      <td>0.880000</td>\n",
       "      <td>0.951000</td>\n",
       "    </tr>\n",
       "    <tr>\n",
       "      <th>5</th>\n",
       "      <td>NB</td>\n",
       "      <td>&lt;py_entitymatching.matcher.nbmatcher.NBMatcher object at 0x7f4e9f6dad50&gt;</td>\n",
       "      <td>5</td>\n",
       "      <td>1.000000</td>\n",
       "      <td>1.0</td>\n",
       "      <td>1.000000</td>\n",
       "      <td>0.875</td>\n",
       "      <td>0.962963</td>\n",
       "      <td>0.967593</td>\n",
       "    </tr>\n",
       "  </tbody>\n",
       "</table>\n",
       "</div>"
      ],
      "text/plain": [
       "     Name  \\\n",
       "0      DT   \n",
       "1      RF   \n",
       "2     SVM   \n",
       "3  LinReg   \n",
       "4  LogReg   \n",
       "5      NB   \n",
       "\n",
       "                                                                            Matcher  \\\n",
       "0          <py_entitymatching.matcher.dtmatcher.DTMatcher object at 0x7f4e9f6da190>   \n",
       "1          <py_entitymatching.matcher.rfmatcher.RFMatcher object at 0x7f4e9f6da110>   \n",
       "2        <py_entitymatching.matcher.svmmatcher.SVMMatcher object at 0x7f4e9f6da9d0>   \n",
       "3  <py_entitymatching.matcher.linregmatcher.LinRegMatcher object at 0x7f4e9f6da650>   \n",
       "4  <py_entitymatching.matcher.logregmatcher.LogRegMatcher object at 0x7f4e9f6da350>   \n",
       "5          <py_entitymatching.matcher.nbmatcher.NBMatcher object at 0x7f4e9f6dad50>   \n",
       "\n",
       "   Num folds    Fold 1  Fold 2    Fold 3  Fold 4    Fold 5  Mean score  \n",
       "0          5  0.956522     1.0  0.947368   0.875  0.833333    0.922445  \n",
       "1          5  0.956522     1.0  1.000000   0.875  0.923077    0.950920  \n",
       "2          5  0.666667     1.0  0.888889   0.800  0.700000    0.811111  \n",
       "3          5  1.000000     1.0  1.000000   0.875  0.962963    0.967593  \n",
       "4          5  1.000000     1.0  1.000000   0.875  0.880000    0.951000  \n",
       "5          5  1.000000     1.0  1.000000   0.875  0.962963    0.967593  "
      ]
     },
     "execution_count": 28,
     "metadata": {},
     "output_type": "execute_result"
    }
   ],
   "source": [
    "# Display f1/precision/recall scores\n",
    "resultf_f1['cv_stats']"
   ]
  },
  {
   "cell_type": "code",
   "execution_count": 29,
   "metadata": {
    "collapsed": false
   },
   "outputs": [
    {
     "data": {
      "text/html": [
       "<div>\n",
       "<table border=\"1\" class=\"dataframe\">\n",
       "  <thead>\n",
       "    <tr style=\"text-align: right;\">\n",
       "      <th></th>\n",
       "      <th>Name</th>\n",
       "      <th>Matcher</th>\n",
       "      <th>Num folds</th>\n",
       "      <th>Fold 1</th>\n",
       "      <th>Fold 2</th>\n",
       "      <th>Fold 3</th>\n",
       "      <th>Fold 4</th>\n",
       "      <th>Fold 5</th>\n",
       "      <th>Mean score</th>\n",
       "    </tr>\n",
       "  </thead>\n",
       "  <tbody>\n",
       "    <tr>\n",
       "      <th>0</th>\n",
       "      <td>DT</td>\n",
       "      <td>&lt;py_entitymatching.matcher.dtmatcher.DTMatcher object at 0x7f4e9f6da190&gt;</td>\n",
       "      <td>5</td>\n",
       "      <td>1.0</td>\n",
       "      <td>1.0</td>\n",
       "      <td>1.0</td>\n",
       "      <td>0.777778</td>\n",
       "      <td>0.909091</td>\n",
       "      <td>0.937374</td>\n",
       "    </tr>\n",
       "    <tr>\n",
       "      <th>1</th>\n",
       "      <td>RF</td>\n",
       "      <td>&lt;py_entitymatching.matcher.rfmatcher.RFMatcher object at 0x7f4e9f6da110&gt;</td>\n",
       "      <td>5</td>\n",
       "      <td>1.0</td>\n",
       "      <td>1.0</td>\n",
       "      <td>1.0</td>\n",
       "      <td>0.777778</td>\n",
       "      <td>0.923077</td>\n",
       "      <td>0.940171</td>\n",
       "    </tr>\n",
       "    <tr>\n",
       "      <th>2</th>\n",
       "      <td>SVM</td>\n",
       "      <td>&lt;py_entitymatching.matcher.svmmatcher.SVMMatcher object at 0x7f4e9f6da9d0&gt;</td>\n",
       "      <td>5</td>\n",
       "      <td>1.0</td>\n",
       "      <td>1.0</td>\n",
       "      <td>1.0</td>\n",
       "      <td>0.750000</td>\n",
       "      <td>1.000000</td>\n",
       "      <td>0.950000</td>\n",
       "    </tr>\n",
       "    <tr>\n",
       "      <th>3</th>\n",
       "      <td>LinReg</td>\n",
       "      <td>&lt;py_entitymatching.matcher.linregmatcher.LinRegMatcher object at 0x7f4e9f6da650&gt;</td>\n",
       "      <td>5</td>\n",
       "      <td>1.0</td>\n",
       "      <td>1.0</td>\n",
       "      <td>1.0</td>\n",
       "      <td>0.777778</td>\n",
       "      <td>0.928571</td>\n",
       "      <td>0.941270</td>\n",
       "    </tr>\n",
       "    <tr>\n",
       "      <th>4</th>\n",
       "      <td>LogReg</td>\n",
       "      <td>&lt;py_entitymatching.matcher.logregmatcher.LogRegMatcher object at 0x7f4e9f6da350&gt;</td>\n",
       "      <td>5</td>\n",
       "      <td>1.0</td>\n",
       "      <td>1.0</td>\n",
       "      <td>1.0</td>\n",
       "      <td>0.777778</td>\n",
       "      <td>0.916667</td>\n",
       "      <td>0.938889</td>\n",
       "    </tr>\n",
       "    <tr>\n",
       "      <th>5</th>\n",
       "      <td>NB</td>\n",
       "      <td>&lt;py_entitymatching.matcher.nbmatcher.NBMatcher object at 0x7f4e9f6dad50&gt;</td>\n",
       "      <td>5</td>\n",
       "      <td>1.0</td>\n",
       "      <td>1.0</td>\n",
       "      <td>1.0</td>\n",
       "      <td>0.777778</td>\n",
       "      <td>0.928571</td>\n",
       "      <td>0.941270</td>\n",
       "    </tr>\n",
       "  </tbody>\n",
       "</table>\n",
       "</div>"
      ],
      "text/plain": [
       "     Name  \\\n",
       "0      DT   \n",
       "1      RF   \n",
       "2     SVM   \n",
       "3  LinReg   \n",
       "4  LogReg   \n",
       "5      NB   \n",
       "\n",
       "                                                                            Matcher  \\\n",
       "0          <py_entitymatching.matcher.dtmatcher.DTMatcher object at 0x7f4e9f6da190>   \n",
       "1          <py_entitymatching.matcher.rfmatcher.RFMatcher object at 0x7f4e9f6da110>   \n",
       "2        <py_entitymatching.matcher.svmmatcher.SVMMatcher object at 0x7f4e9f6da9d0>   \n",
       "3  <py_entitymatching.matcher.linregmatcher.LinRegMatcher object at 0x7f4e9f6da650>   \n",
       "4  <py_entitymatching.matcher.logregmatcher.LogRegMatcher object at 0x7f4e9f6da350>   \n",
       "5          <py_entitymatching.matcher.nbmatcher.NBMatcher object at 0x7f4e9f6dad50>   \n",
       "\n",
       "   Num folds  Fold 1  Fold 2  Fold 3    Fold 4    Fold 5  Mean score  \n",
       "0          5     1.0     1.0     1.0  0.777778  0.909091    0.937374  \n",
       "1          5     1.0     1.0     1.0  0.777778  0.923077    0.940171  \n",
       "2          5     1.0     1.0     1.0  0.750000  1.000000    0.950000  \n",
       "3          5     1.0     1.0     1.0  0.777778  0.928571    0.941270  \n",
       "4          5     1.0     1.0     1.0  0.777778  0.916667    0.938889  \n",
       "5          5     1.0     1.0     1.0  0.777778  0.928571    0.941270  "
      ]
     },
     "execution_count": 29,
     "metadata": {},
     "output_type": "execute_result"
    }
   ],
   "source": [
    "resultf_prec['cv_stats']"
   ]
  },
  {
   "cell_type": "code",
   "execution_count": 30,
   "metadata": {
    "collapsed": false
   },
   "outputs": [
    {
     "data": {
      "text/html": [
       "<div>\n",
       "<table border=\"1\" class=\"dataframe\">\n",
       "  <thead>\n",
       "    <tr style=\"text-align: right;\">\n",
       "      <th></th>\n",
       "      <th>Name</th>\n",
       "      <th>Matcher</th>\n",
       "      <th>Num folds</th>\n",
       "      <th>Fold 1</th>\n",
       "      <th>Fold 2</th>\n",
       "      <th>Fold 3</th>\n",
       "      <th>Fold 4</th>\n",
       "      <th>Fold 5</th>\n",
       "      <th>Mean score</th>\n",
       "    </tr>\n",
       "  </thead>\n",
       "  <tbody>\n",
       "    <tr>\n",
       "      <th>0</th>\n",
       "      <td>DT</td>\n",
       "      <td>&lt;py_entitymatching.matcher.dtmatcher.DTMatcher object at 0x7f4e9f6da190&gt;</td>\n",
       "      <td>5</td>\n",
       "      <td>0.916667</td>\n",
       "      <td>1.0</td>\n",
       "      <td>0.9</td>\n",
       "      <td>1.000000</td>\n",
       "      <td>0.769231</td>\n",
       "      <td>0.917179</td>\n",
       "    </tr>\n",
       "    <tr>\n",
       "      <th>1</th>\n",
       "      <td>RF</td>\n",
       "      <td>&lt;py_entitymatching.matcher.rfmatcher.RFMatcher object at 0x7f4e9f6da110&gt;</td>\n",
       "      <td>5</td>\n",
       "      <td>0.916667</td>\n",
       "      <td>1.0</td>\n",
       "      <td>1.0</td>\n",
       "      <td>1.000000</td>\n",
       "      <td>0.923077</td>\n",
       "      <td>0.967949</td>\n",
       "    </tr>\n",
       "    <tr>\n",
       "      <th>2</th>\n",
       "      <td>SVM</td>\n",
       "      <td>&lt;py_entitymatching.matcher.svmmatcher.SVMMatcher object at 0x7f4e9f6da9d0&gt;</td>\n",
       "      <td>5</td>\n",
       "      <td>0.500000</td>\n",
       "      <td>1.0</td>\n",
       "      <td>0.8</td>\n",
       "      <td>0.857143</td>\n",
       "      <td>0.538462</td>\n",
       "      <td>0.739121</td>\n",
       "    </tr>\n",
       "    <tr>\n",
       "      <th>3</th>\n",
       "      <td>LinReg</td>\n",
       "      <td>&lt;py_entitymatching.matcher.linregmatcher.LinRegMatcher object at 0x7f4e9f6da650&gt;</td>\n",
       "      <td>5</td>\n",
       "      <td>1.000000</td>\n",
       "      <td>1.0</td>\n",
       "      <td>1.0</td>\n",
       "      <td>1.000000</td>\n",
       "      <td>1.000000</td>\n",
       "      <td>1.000000</td>\n",
       "    </tr>\n",
       "    <tr>\n",
       "      <th>4</th>\n",
       "      <td>LogReg</td>\n",
       "      <td>&lt;py_entitymatching.matcher.logregmatcher.LogRegMatcher object at 0x7f4e9f6da350&gt;</td>\n",
       "      <td>5</td>\n",
       "      <td>1.000000</td>\n",
       "      <td>1.0</td>\n",
       "      <td>1.0</td>\n",
       "      <td>1.000000</td>\n",
       "      <td>0.846154</td>\n",
       "      <td>0.969231</td>\n",
       "    </tr>\n",
       "    <tr>\n",
       "      <th>5</th>\n",
       "      <td>NB</td>\n",
       "      <td>&lt;py_entitymatching.matcher.nbmatcher.NBMatcher object at 0x7f4e9f6dad50&gt;</td>\n",
       "      <td>5</td>\n",
       "      <td>1.000000</td>\n",
       "      <td>1.0</td>\n",
       "      <td>1.0</td>\n",
       "      <td>1.000000</td>\n",
       "      <td>1.000000</td>\n",
       "      <td>1.000000</td>\n",
       "    </tr>\n",
       "  </tbody>\n",
       "</table>\n",
       "</div>"
      ],
      "text/plain": [
       "     Name  \\\n",
       "0      DT   \n",
       "1      RF   \n",
       "2     SVM   \n",
       "3  LinReg   \n",
       "4  LogReg   \n",
       "5      NB   \n",
       "\n",
       "                                                                            Matcher  \\\n",
       "0          <py_entitymatching.matcher.dtmatcher.DTMatcher object at 0x7f4e9f6da190>   \n",
       "1          <py_entitymatching.matcher.rfmatcher.RFMatcher object at 0x7f4e9f6da110>   \n",
       "2        <py_entitymatching.matcher.svmmatcher.SVMMatcher object at 0x7f4e9f6da9d0>   \n",
       "3  <py_entitymatching.matcher.linregmatcher.LinRegMatcher object at 0x7f4e9f6da650>   \n",
       "4  <py_entitymatching.matcher.logregmatcher.LogRegMatcher object at 0x7f4e9f6da350>   \n",
       "5          <py_entitymatching.matcher.nbmatcher.NBMatcher object at 0x7f4e9f6dad50>   \n",
       "\n",
       "   Num folds    Fold 1  Fold 2  Fold 3    Fold 4    Fold 5  Mean score  \n",
       "0          5  0.916667     1.0     0.9  1.000000  0.769231    0.917179  \n",
       "1          5  0.916667     1.0     1.0  1.000000  0.923077    0.967949  \n",
       "2          5  0.500000     1.0     0.8  0.857143  0.538462    0.739121  \n",
       "3          5  1.000000     1.0     1.0  1.000000  1.000000    1.000000  \n",
       "4          5  1.000000     1.0     1.0  1.000000  0.846154    0.969231  \n",
       "5          5  1.000000     1.0     1.0  1.000000  1.000000    1.000000  "
      ]
     },
     "execution_count": 30,
     "metadata": {},
     "output_type": "execute_result"
    }
   ],
   "source": [
    "resultf_rec['cv_stats']"
   ]
  },
  {
   "cell_type": "markdown",
   "metadata": {},
   "source": [
    "By comparing the new scores with the old one, we don's see much improvements (since the old one is already good enough). So in the evaluation step, we switch back to the original feature vectors at the first time."
   ]
  },
  {
   "cell_type": "markdown",
   "metadata": {},
   "source": [
    "## 8. Evaluating the Best Matcher Y using J\n",
    "### a. Convering J into a set L of feature vectors\n",
    "As said before, we still used the features generated automatically, and the ML method is Naive Bayes. Here we first need to regenerate the feature table as well as feature vectors for both set I (devel_set) and set J (eval_set)."
   ]
  },
  {
   "cell_type": "code",
   "execution_count": 31,
   "metadata": {
    "collapsed": true
   },
   "outputs": [],
   "source": [
    "#Use the model that generated automatically (without adding new feature)\n",
    "feature_table = em.get_features_for_matching(AA1,BB1)\n",
    "H = em.extract_feature_vecs(devel_set,feature_table=feature_table, attrs_after='gold',show_progress=False)\n",
    "L = em.extract_feature_vecs(eval_set,feature_table=feature_table, attrs_after='gold',show_progress=False)"
   ]
  },
  {
   "cell_type": "markdown",
   "metadata": {},
   "source": [
    "### b. Filling in the missing values if any (skipped)\n",
    "Our dataset doesn't have missing value issue, so we just skip this step."
   ]
  },
  {
   "cell_type": "markdown",
   "metadata": {},
   "source": [
    "### c. Training the best matcher Y using I"
   ]
  },
  {
   "cell_type": "code",
   "execution_count": 32,
   "metadata": {
    "collapsed": true
   },
   "outputs": [],
   "source": [
    "##Train the six matchers on set I  (features for I is called H)\n",
    "dt.fit(table = H, exclude_attrs=['_id', 'ltable_ID', 'rtable_ID', 'gold'], target_attr='gold')\n",
    "rf.fit(table = H, exclude_attrs=['_id', 'ltable_ID', 'rtable_ID', 'gold'], target_attr='gold')\n",
    "svm.fit(table = H, exclude_attrs=['_id', 'ltable_ID', 'rtable_ID', 'gold'], target_attr='gold')\n",
    "lg.fit(table = H, exclude_attrs=['_id', 'ltable_ID', 'rtable_ID', 'gold'], target_attr='gold')\n",
    "ln.fit(table = H, exclude_attrs=['_id', 'ltable_ID', 'rtable_ID', 'gold'], target_attr='gold')\n",
    "nb.fit(table = H, exclude_attrs=['_id', 'ltable_ID', 'rtable_ID', 'gold'], target_attr='gold')"
   ]
  },
  {
   "cell_type": "markdown",
   "metadata": {},
   "source": [
    "### d. Computing the accuracy of Y\n",
    "We used the metrics module in skrlearn package for convenience."
   ]
  },
  {
   "cell_type": "code",
   "execution_count": 33,
   "metadata": {
    "collapsed": false
   },
   "outputs": [
    {
     "name": "stdout",
     "output_type": "stream",
     "text": [
      "************************DT result******************************\n",
      "             precision    recall  f1-score   support\n",
      "\n",
      "          0       0.98      1.00      0.99       170\n",
      "          1       1.00      0.87      0.93        30\n",
      "\n",
      "avg / total       0.98      0.98      0.98       200\n",
      "\n",
      "************************RF resutl******************************\n",
      "             precision    recall  f1-score   support\n",
      "\n",
      "          0       1.00      1.00      1.00       170\n",
      "          1       1.00      1.00      1.00        30\n",
      "\n",
      "avg / total       1.00      1.00      1.00       200\n",
      "\n",
      "************************SVM resutl******************************\n",
      "             precision    recall  f1-score   support\n",
      "\n",
      "          0       1.00      1.00      1.00       170\n",
      "          1       1.00      1.00      1.00        30\n",
      "\n",
      "avg / total       1.00      1.00      1.00       200\n",
      "\n",
      "************************LogReg resutl******************************\n",
      "             precision    recall  f1-score   support\n",
      "\n",
      "          0       0.99      0.99      0.99       170\n",
      "          1       0.97      0.97      0.97        30\n",
      "\n",
      "avg / total       0.99      0.99      0.99       200\n",
      "\n",
      "************************LinReg resutl******************************\n",
      "             precision    recall  f1-score   support\n",
      "\n",
      "          0       1.00      1.00      1.00       170\n",
      "          1       1.00      1.00      1.00        30\n",
      "\n",
      "avg / total       1.00      1.00      1.00       200\n",
      "\n",
      "************************NB resutl******************************\n",
      "             precision    recall  f1-score   support\n",
      "\n",
      "          0       1.00      1.00      1.00       170\n",
      "          1       1.00      1.00      1.00        30\n",
      "\n",
      "avg / total       1.00      1.00      1.00       200\n",
      "\n"
     ]
    }
   ],
   "source": [
    "label = L['gold'].as_matrix()\n",
    "##Test the matchers on test set J (features for J is called L)\n",
    "print('************************DT result******************************')\n",
    "dt_result = dt.predict(table = L, exclude_attrs=['_id', 'ltable_ID', 'rtable_ID', 'gold'], target_attr='predict')\n",
    "print(metrics.classification_report(label, dt_result))\n",
    "\n",
    "print('************************RF resutl******************************')\n",
    "rf_result = rf.predict(table = L, exclude_attrs=['_id', 'ltable_ID', 'rtable_ID', 'gold'], target_attr='predict')\n",
    "print(metrics.classification_report(label, rf_result))\n",
    "\n",
    "print('************************SVM resutl******************************')\n",
    "svm_result = rf.predict(table = L, exclude_attrs=['_id', 'ltable_ID', 'rtable_ID', 'gold'], target_attr='predict')\n",
    "print(metrics.classification_report(label, svm_result))\n",
    "\n",
    "print('************************LogReg resutl******************************')\n",
    "lg_result = lg.predict(table = L, exclude_attrs=['_id', 'ltable_ID', 'rtable_ID', 'gold'], target_attr='predict')\n",
    "print(metrics.classification_report(label, lg_result))\n",
    "\n",
    "print('************************LinReg resutl******************************')\n",
    "ln_result = ln.predict(table =L, exclude_attrs=['_id', 'ltable_ID', 'rtable_ID', 'gold'], target_attr='predict')\n",
    "print(metrics.classification_report(label, ln_result))\n",
    "\n",
    "print('************************NB resutl******************************')\n",
    "nb_result = nb.predict(table = L, exclude_attrs=['_id', 'ltable_ID', 'rtable_ID', 'gold'], target_attr='predict')\n",
    "print(metrics.classification_report(label, nb_result))\n"
   ]
  }
 ],
 "metadata": {
  "kernelspec": {
   "display_name": "Python 2",
   "language": "python",
   "name": "python2"
  },
  "language_info": {
   "codemirror_mode": {
    "name": "ipython",
    "version": 2
   },
   "file_extension": ".py",
   "mimetype": "text/x-python",
   "name": "python",
   "nbconvert_exporter": "python",
   "pygments_lexer": "ipython2",
   "version": "2.7.13"
  }
 },
 "nbformat": 4,
 "nbformat_minor": 2
}
